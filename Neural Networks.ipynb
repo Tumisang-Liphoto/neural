{
 "cells": [
  {
   "cell_type": "code",
   "execution_count": 24,
   "id": "32057662",
   "metadata": {},
   "outputs": [],
   "source": [
    "import numpy as np"
   ]
  },
  {
   "cell_type": "code",
   "execution_count": 25,
   "id": "d809c597",
   "metadata": {},
   "outputs": [],
   "source": [
    "#this is where we define the sigmoid function it also called the activation function\n",
    "#the neuron that will fire will depend on which result of the function\n",
    "def sigmoid(x):\n",
    "    return 1/(1+np.exp(-x))"
   ]
  },
  {
   "cell_type": "code",
   "execution_count": 11,
   "id": "0f120a84",
   "metadata": {},
   "outputs": [],
   "source": [
    "def sigmoid_derivative(x):\n",
    "    return x * (1 - x)"
   ]
  },
  {
   "cell_type": "code",
   "execution_count": 26,
   "id": "ac45ea61",
   "metadata": {},
   "outputs": [],
   "source": [
    "#create the dataset we are to train with\n",
    "\n",
    "training_input = np.array([[0,0,1],\n",
    "                          [1,1,1],\n",
    "                          [1,0,1],\n",
    "                          [0,1,1]])"
   ]
  },
  {
   "cell_type": "code",
   "execution_count": 27,
   "id": "f84c529b",
   "metadata": {},
   "outputs": [],
   "source": [
    "#the aray of output, this will be tronsposed to to one dimensional vector\n",
    "training_ouputs = np.array([[0,1,1,0]]).T"
   ]
  },
  {
   "cell_type": "code",
   "execution_count": 28,
   "id": "884f9159",
   "metadata": {},
   "outputs": [],
   "source": [
    "#ensure we get the same random numbers for the class\n",
    "np.random.seed(1)"
   ]
  },
  {
   "cell_type": "code",
   "execution_count": 29,
   "id": "26add767",
   "metadata": {},
   "outputs": [],
   "source": [
    "#numbers from -1 t0 1 with a mean of 0\n",
    "\n",
    "weights = 2 * np.random.random((3, 1)) - 1"
   ]
  },
  {
   "cell_type": "code",
   "execution_count": 30,
   "id": "de1fae77",
   "metadata": {},
   "outputs": [
    {
     "name": "stdout",
     "output_type": "stream",
     "text": [
      "The weights are: \n",
      "[[-0.16595599]\n",
      " [ 0.44064899]\n",
      " [-0.99977125]]\n"
     ]
    }
   ],
   "source": [
    "#these will be random\n",
    "print(\"The weights are: \")\n",
    "print(weights)"
   ]
  },
  {
   "cell_type": "code",
   "execution_count": 34,
   "id": "34322a10",
   "metadata": {},
   "outputs": [],
   "source": [
    "for iteration in range(1):\n",
    "    input_layer = training_input\n",
    "    outputs = sigmoid(np.dot(input_layer, weights))\n",
    "    \n",
    "    \n",
    "   \n",
    "    "
   ]
  },
  {
   "cell_type": "code",
   "execution_count": 35,
   "id": "4b76a565",
   "metadata": {},
   "outputs": [],
   "source": [
    "for iteration in range(20000):\n",
    "    input_layer = training_input\n",
    "    outputs = sigmoid(np.dot(input_layer, weights))\n",
    "    error = training_ouputs - outputs\n",
    "    adjustments = error * sigmoid_derivative(outputs)\n",
    "    weights += np.dot(input_layer.T, adjustments)\n",
    "    "
   ]
  },
  {
   "cell_type": "code",
   "execution_count": 36,
   "id": "58b53b70",
   "metadata": {},
   "outputs": [
    {
     "name": "stdout",
     "output_type": "stream",
     "text": [
      "outputs after training\n",
      "[[0.00679672]\n",
      " [0.99445583]\n",
      " [0.99548516]\n",
      " [0.00553614]]\n"
     ]
    }
   ],
   "source": [
    "print(\"outputs after training\")\n",
    "print(outputs)\n"
   ]
  },
  {
   "cell_type": "code",
   "execution_count": null,
   "id": "25e5bb4b",
   "metadata": {},
   "outputs": [],
   "source": []
  }
 ],
 "metadata": {
  "kernelspec": {
   "display_name": "Python 3",
   "language": "python",
   "name": "python3"
  },
  "language_info": {
   "codemirror_mode": {
    "name": "ipython",
    "version": 3
   },
   "file_extension": ".py",
   "mimetype": "text/x-python",
   "name": "python",
   "nbconvert_exporter": "python",
   "pygments_lexer": "ipython3",
   "version": "3.7.10"
  }
 },
 "nbformat": 4,
 "nbformat_minor": 5
}
